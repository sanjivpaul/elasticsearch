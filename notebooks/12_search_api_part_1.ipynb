{
 "cells": [
  {
   "cell_type": "markdown",
   "id": "a8dacb0a-9f0f-472c-867f-76b78ca0472b",
   "metadata": {},
   "source": [
    "To read more about the search API, visit the docs [here](https://www.elastic.co/docs/solutions/search/querying-for-search) and [here](https://www.elastic.co/docs/api/doc/elasticsearch/operation/operation-search)."
   ]
  },
  {
   "cell_type": "markdown",
   "id": "395abea3-c1cb-43ac-8860-3c0690102e77",
   "metadata": {},
   "source": [
    "### Connect To Elasticsearch"
   ]
  },
  {
   "cell_type": "code",
   "execution_count": 1,
   "id": "7115d9ca-6e53-4ad2-ae78-d73c15de162e",
   "metadata": {},
   "outputs": [
    {
     "name": "stdout",
     "output_type": "stream",
     "text": [
      "Connected to Elasticsearch!\n",
      "{'cluster_name': 'docker-cluster',\n",
      " 'cluster_uuid': '0cXT2SaPTdGHk8cC2kcjuQ',\n",
      " 'name': '71a7b5e51874',\n",
      " 'tagline': 'You Know, for Search',\n",
      " 'version': {'build_date': '2024-08-05T10:05:34.233336849Z',\n",
      "             'build_flavor': 'default',\n",
      "             'build_hash': '1a77947f34deddb41af25e6f0ddb8e830159c179',\n",
      "             'build_snapshot': False,\n",
      "             'build_type': 'docker',\n",
      "             'lucene_version': '9.11.1',\n",
      "             'minimum_index_compatibility_version': '7.0.0',\n",
      "             'minimum_wire_compatibility_version': '7.17.0',\n",
      "             'number': '8.15.0'}}\n"
     ]
    }
   ],
   "source": [
    "from pprint import pprint\n",
    "from elasticsearch import Elasticsearch\n",
    "\n",
    "es = Elasticsearch('http://localhost:9200')\n",
    "client_info = es.info()\n",
    "print('Connected to Elasticsearch!')\n",
    "pprint(client_info.body)"
   ]
  },
  {
   "cell_type": "markdown",
   "id": "4cc5d164-e9d3-4b2c-a300-942fffcbd70c",
   "metadata": {},
   "source": [
    "### Inserting documents"
   ]
  },
  {
   "cell_type": "code",
   "execution_count": 2,
   "id": "fb4c9e04-5e3b-48b4-ac5f-85f8779d2cb4",
   "metadata": {},
   "outputs": [
    {
     "data": {
      "text/plain": [
       "ObjectApiResponse({'acknowledged': True, 'shards_acknowledged': True, 'index': 'index_2'})"
      ]
     },
     "execution_count": 2,
     "metadata": {},
     "output_type": "execute_result"
    }
   ],
   "source": [
    "es.indices.delete(index='index_1', ignore_unavailable=True)\n",
    "es.indices.create(index='index_1')\n",
    "\n",
    "es.indices.delete(index='index_2', ignore_unavailable=True)\n",
    "es.indices.create(index='index_2')"
   ]
  },
  {
   "cell_type": "markdown",
   "id": "ecbc23ac-7172-47d6-b62a-14a4d2b0380a",
   "metadata": {},
   "source": [
    "Let's index the documents sequentially in both indices."
   ]
  },
  {
   "cell_type": "code",
   "execution_count": 3,
   "id": "1b6c3b4e-a4ab-4e61-8834-4f2118bbb002",
   "metadata": {},
   "outputs": [
    {
     "name": "stderr",
     "output_type": "stream",
     "text": [
      "100%|█████████████████████████████████████████████████████████████████████████████████████████████████████| 3/3 [00:00<00:00, 17.41it/s]\n",
      "100%|█████████████████████████████████████████████████████████████████████████████████████████████████████| 3/3 [00:00<00:00, 38.89it/s]\n"
     ]
    }
   ],
   "source": [
    "import json\n",
    "from tqdm import tqdm\n",
    "\n",
    "\n",
    "dummy_data= json.load(open(\"../data/dummy_data.json\"))\n",
    "for document in tqdm(dummy_data, total=len(dummy_data)):\n",
    "    response = es.index(index='index_1', body=document)\n",
    "\n",
    "for document in tqdm(dummy_data, total=len(dummy_data)):\n",
    "    response = es.index(index='index_2', body=document)"
   ]
  },
  {
   "cell_type": "markdown",
   "id": "b0023120-26f6-485e-823f-633d735ddbc5",
   "metadata": {},
   "source": [
    "### Searching"
   ]
  },
  {
   "cell_type": "markdown",
   "id": "c8ee585a-b4f6-4318-9e04-f73269e083a5",
   "metadata": {},
   "source": [
    "We can provide the `index` argument one index at a time."
   ]
  },
  {
   "cell_type": "code",
   "execution_count": 8,
   "id": "5adb1d03-9d4f-4b6d-bf92-aae59143eb83",
   "metadata": {},
   "outputs": [
    {
     "name": "stdout",
     "output_type": "stream",
     "text": [
      "Found 6 documents in index_1 and index_2\n"
     ]
    }
   ],
   "source": [
    "response = es.search(\n",
    "    index=\"index_1,index_2\",\n",
    "    body={\n",
    "        \"query\":{\"match_all\":{}}\n",
    "    }\n",
    ")\n",
    "\n",
    "n_hits = response['hits']['total']['value']\n",
    "print(f\"Found {n_hits} documents in index_1 and index_2\")"
   ]
  },
  {
   "cell_type": "markdown",
   "id": "7bf86d4a-1496-4668-ae4d-edc087368aae",
   "metadata": {},
   "source": [
    "We can also use wildcards `*` to match multiple indices without listing them individually, such as `\"index*\"`.\n"
   ]
  },
  {
   "cell_type": "code",
   "execution_count": 9,
   "id": "36579555-261d-4e6e-b463-bd7aff6aecc3",
   "metadata": {},
   "outputs": [
    {
     "name": "stdout",
     "output_type": "stream",
     "text": [
      "Found 6 documents in all indexes with name starting with 'index'\n"
     ]
    }
   ],
   "source": [
    "response = es.search(\n",
    "    index='index*',\n",
    "    body={\n",
    "        \"query\":{\"match_all\":{}}\n",
    "    }\n",
    ")\n",
    "\n",
    "n_hits = response['hits']['total']['value']\n",
    "print(f\"Found {n_hits} documents in all indexes with name starting with 'index'\")"
   ]
  },
  {
   "cell_type": "markdown",
   "id": "26bdc395-e18d-4d23-b7a7-d6caaf9d2ac8",
   "metadata": {},
   "source": [
    "Or, to search all indices, we use `_all`."
   ]
  },
  {
   "cell_type": "code",
   "execution_count": 12,
   "id": "acc5f368-a495-470d-86e0-e4e801f32a30",
   "metadata": {},
   "outputs": [
    {
     "name": "stdout",
     "output_type": "stream",
     "text": [
      "Found 8 documents in all indexes\n"
     ]
    }
   ],
   "source": [
    "response = es.search(\n",
    "    index='_all',\n",
    "    body={\n",
    "        \"query\": {\"match_all\": {}}\n",
    "    }\n",
    ")\n",
    "\n",
    "n_hits = response['hits']['total']['value']\n",
    "print(f\"Found {n_hits} documents in all indexes\")"
   ]
  },
  {
   "cell_type": "code",
   "execution_count": null,
   "id": "fe0fb113-f2f3-4ea2-9d00-8d0ea5d991e1",
   "metadata": {},
   "outputs": [],
   "source": []
  }
 ],
 "metadata": {
  "kernelspec": {
   "display_name": "Python 3 (ipykernel)",
   "language": "python",
   "name": "python3"
  },
  "language_info": {
   "codemirror_mode": {
    "name": "ipython",
    "version": 3
   },
   "file_extension": ".py",
   "mimetype": "text/x-python",
   "name": "python",
   "nbconvert_exporter": "python",
   "pygments_lexer": "ipython3",
   "version": "3.13.7"
  }
 },
 "nbformat": 4,
 "nbformat_minor": 5
}
