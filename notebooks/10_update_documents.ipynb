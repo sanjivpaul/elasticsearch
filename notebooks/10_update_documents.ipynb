{
 "cells": [
  {
   "cell_type": "markdown",
   "id": "727d5d99-d275-4ba9-bdcb-878ba4b59631",
   "metadata": {},
   "source": [
    "## Connect To Elastic Search"
   ]
  },
  {
   "cell_type": "code",
   "execution_count": 1,
   "id": "404697b6-5191-489c-a8eb-11269a974f32",
   "metadata": {},
   "outputs": [
    {
     "name": "stdout",
     "output_type": "stream",
     "text": [
      "Connected to Elasticsearch!\n",
      "{'cluster_name': 'docker-cluster',\n",
      " 'cluster_uuid': 'FQt-ffZfTpeh0Snf3pUAQw',\n",
      " 'name': 'ae8b5b4be42b',\n",
      " 'tagline': 'You Know, for Search',\n",
      " 'version': {'build_date': '2024-08-05T10:05:34.233336849Z',\n",
      "             'build_flavor': 'default',\n",
      "             'build_hash': '1a77947f34deddb41af25e6f0ddb8e830159c179',\n",
      "             'build_snapshot': False,\n",
      "             'build_type': 'docker',\n",
      "             'lucene_version': '9.11.1',\n",
      "             'minimum_index_compatibility_version': '7.0.0',\n",
      "             'minimum_wire_compatibility_version': '7.17.0',\n",
      "             'number': '8.15.0'}}\n"
     ]
    }
   ],
   "source": [
    "from pprint import pprint\n",
    "from elasticsearch import Elasticsearch\n",
    "\n",
    "es = Elasticsearch('http://localhost:9200')\n",
    "client_info = es.info()\n",
    "print('Connected to Elasticsearch!')\n",
    "pprint(client_info.body)"
   ]
  },
  {
   "cell_type": "markdown",
   "id": "87300e7b-c362-47b1-89e7-f4d12f272c57",
   "metadata": {},
   "source": [
    "### Index Documents"
   ]
  },
  {
   "cell_type": "code",
   "execution_count": 2,
   "id": "9643dc09-5415-44e0-9603-ae496dd89aab",
   "metadata": {},
   "outputs": [
    {
     "data": {
      "text/plain": [
       "ObjectApiResponse({'acknowledged': True, 'shards_acknowledged': True, 'index': 'my_index'})"
      ]
     },
     "execution_count": 2,
     "metadata": {},
     "output_type": "execute_result"
    }
   ],
   "source": [
    "es.indices.delete(index='my_index', ignore_unavailable=True)\n",
    "es.indices.create(index='my_index')"
   ]
  },
  {
   "cell_type": "markdown",
   "id": "c2376cbe-51dd-468a-b069-9fc748966cd4",
   "metadata": {},
   "source": [
    "We are using the `dummy_data.json` file to insert multiple documents in the index. We store the id of each document in the d`ocument_ids` list."
   ]
  },
  {
   "cell_type": "code",
   "execution_count": 3,
   "id": "454299f2-9de2-48fc-b104-2dacc2c317b0",
   "metadata": {},
   "outputs": [
    {
     "name": "stderr",
     "output_type": "stream",
     "text": [
      "100%|██████████████████████████████████████████████████████████████████████████████████████████████████████| 3/3 [00:00<00:00, 10.80it/s]\n"
     ]
    }
   ],
   "source": [
    "import json\n",
    "from tqdm import tqdm\n",
    "\n",
    "document_ids = []\n",
    "dummy_data = json.load(open(\"../data/dummy_data.json\"))\n",
    "for document in tqdm(dummy_data, total=len(dummy_data)):\n",
    "    response = es.index(index='my_index', body=document)\n",
    "    document_ids.append(response['_id'])"
   ]
  },
  {
   "cell_type": "code",
   "execution_count": 4,
   "id": "b4af259a-fd9a-415f-a058-6aafa442addd",
   "metadata": {},
   "outputs": [
    {
     "data": {
      "text/plain": [
       "['cCorNJoBqbZEoMTBrcoi', 'cSorNJoBqbZEoMTBrsoR', 'ciorNJoBqbZEoMTBrsoh']"
      ]
     },
     "execution_count": 4,
     "metadata": {},
     "output_type": "execute_result"
    }
   ],
   "source": [
    "document_ids"
   ]
  },
  {
   "cell_type": "markdown",
   "id": "e46812ea-89d7-4e79-825f-1a9b5ef1d316",
   "metadata": {},
   "source": [
    "### Update Api"
   ]
  },
  {
   "cell_type": "markdown",
   "id": "d75a2777-beb6-4352-b52d-b32204c89074",
   "metadata": {},
   "source": [
    "### 1. If documents exists in the index"
   ]
  },
  {
   "cell_type": "markdown",
   "id": "e7cd7152-d02c-4717-b877-e12e264e8ace",
   "metadata": {},
   "source": [
    "#### 1.1 Update an existing field"
   ]
  },
  {
   "cell_type": "code",
   "execution_count": 5,
   "id": "94620329-0809-4238-9ddf-0326ba7ab1bc",
   "metadata": {},
   "outputs": [
    {
     "name": "stdout",
     "output_type": "stream",
     "text": [
      "{'_id': 'cCorNJoBqbZEoMTBrcoi',\n",
      " '_index': 'my_index',\n",
      " '_primary_term': 1,\n",
      " '_seq_no': 3,\n",
      " '_shards': {'failed': 0, 'successful': 1, 'total': 2},\n",
      " '_version': 2,\n",
      " 'result': 'updated'}\n"
     ]
    }
   ],
   "source": [
    "from pprint import pprint\n",
    "\n",
    "response = es.update(\n",
    "    index='my_index',\n",
    "    id=document_ids[0],\n",
    "    script={\n",
    "        \"source\":\"ctx._source.title = params.title\",\n",
    "        \"params\":{\n",
    "            \"title\":\"New Title\"\n",
    "        }\n",
    "    }\n",
    ")\n",
    "\n",
    "pprint(response.body)\n"
   ]
  },
  {
   "cell_type": "code",
   "execution_count": 6,
   "id": "99654d49-e474-4bab-aea9-529b0729d910",
   "metadata": {},
   "outputs": [
    {
     "name": "stdout",
     "output_type": "stream",
     "text": [
      "{'_id': 'cCorNJoBqbZEoMTBrcoi',\n",
      " '_index': 'my_index',\n",
      " '_primary_term': 1,\n",
      " '_seq_no': 3,\n",
      " '_source': {'created_on': '2024-09-22',\n",
      "             'text': 'This is the first sample document text.',\n",
      "             'title': 'New Title'},\n",
      " '_version': 2,\n",
      " 'found': True}\n"
     ]
    }
   ],
   "source": [
    "response = es.get(index='my_index', id=document_ids[0])\n",
    "pprint(response.body)\n"
   ]
  },
  {
   "cell_type": "markdown",
   "id": "ff21b3ba-6a64-4f34-95d4-5b99595ce549",
   "metadata": {},
   "source": [
    "#### 1.2 Add a new field"
   ]
  },
  {
   "cell_type": "markdown",
   "id": "f8515a17-c6a3-4935-a7d0-e001fbdba8f3",
   "metadata": {},
   "source": [
    "To add a new field, you can either use the `script` argument or the `doc` argument."
   ]
  },
  {
   "cell_type": "markdown",
   "id": "b5a5155f-97d3-4da1-a4ae-6641f4f15897",
   "metadata": {},
   "source": [
    "#### 1.2.1 Method 1 (Script)"
   ]
  },
  {
   "cell_type": "code",
   "execution_count": 7,
   "id": "1501035e-6e29-4163-8933-4bb38a8bfe40",
   "metadata": {},
   "outputs": [
    {
     "name": "stdout",
     "output_type": "stream",
     "text": [
      "{'_id': 'cCorNJoBqbZEoMTBrcoi',\n",
      " '_index': 'my_index',\n",
      " '_primary_term': 1,\n",
      " '_seq_no': 4,\n",
      " '_shards': {'failed': 0, 'successful': 1, 'total': 2},\n",
      " '_version': 3,\n",
      " 'result': 'updated'}\n"
     ]
    }
   ],
   "source": [
    "response = es.update(\n",
    "    index='my_index',\n",
    "    id=document_ids[0],\n",
    "    script={\n",
    "        \"source\":\"ctx._source.new_field = 'dummy_value'\",\n",
    "    },\n",
    ")\n",
    "pprint(response.body)"
   ]
  },
  {
   "cell_type": "code",
   "execution_count": 8,
   "id": "01289f6b-74a6-47da-bb85-7dc93237c0ee",
   "metadata": {},
   "outputs": [
    {
     "name": "stdout",
     "output_type": "stream",
     "text": [
      "{'_id': 'cCorNJoBqbZEoMTBrcoi',\n",
      " '_index': 'my_index',\n",
      " '_primary_term': 1,\n",
      " '_seq_no': 4,\n",
      " '_source': {'created_on': '2024-09-22',\n",
      "             'new_field': 'dummy_value',\n",
      "             'text': 'This is the first sample document text.',\n",
      "             'title': 'New Title'},\n",
      " '_version': 3,\n",
      " 'found': True}\n"
     ]
    }
   ],
   "source": [
    "response = es.get(index='my_index', id=document_ids[0])\n",
    "pprint(response.body)"
   ]
  },
  {
   "cell_type": "markdown",
   "id": "bda8c091-c1a5-4ac9-b83f-6bdd30d84b98",
   "metadata": {},
   "source": [
    "#### 1.2.2 Method 2 (doc)"
   ]
  },
  {
   "cell_type": "code",
   "execution_count": null,
   "id": "ee4ea864-de47-43c6-85af-be1baf9e55cd",
   "metadata": {},
   "outputs": [],
   "source": []
  }
 ],
 "metadata": {
  "kernelspec": {
   "display_name": "Python 3 (ipykernel)",
   "language": "python",
   "name": "python3"
  },
  "language_info": {
   "codemirror_mode": {
    "name": "ipython",
    "version": 3
   },
   "file_extension": ".py",
   "mimetype": "text/x-python",
   "name": "python",
   "nbconvert_exporter": "python",
   "pygments_lexer": "ipython3",
   "version": "3.12.9"
  }
 },
 "nbformat": 4,
 "nbformat_minor": 5
}
