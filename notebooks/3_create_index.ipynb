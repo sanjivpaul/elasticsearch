{
 "cells": [
  {
   "cell_type": "markdown",
   "id": "01f5d6d6-be3b-4d45-9e97-f706f364c4f4",
   "metadata": {},
   "source": [
    "## Connect to ElasticSearch"
   ]
  },
  {
   "cell_type": "code",
   "execution_count": 1,
   "id": "cc88e8a7-d5ac-450d-9d50-8f8ecccf9b3f",
   "metadata": {},
   "outputs": [
    {
     "name": "stdout",
     "output_type": "stream",
     "text": [
      "Requirement already satisfied: elasticsearch==8.* in /Users/sanjiv/Developer/Code/elasticsearch/elastic_search/lib/python3.13/site-packages (8.19.1)\n",
      "Requirement already satisfied: elastic-transport<9,>=8.15.1 in /Users/sanjiv/Developer/Code/elasticsearch/elastic_search/lib/python3.13/site-packages (from elasticsearch==8.*) (8.17.1)\n",
      "Requirement already satisfied: python-dateutil in /Users/sanjiv/Developer/Code/elasticsearch/elastic_search/lib/python3.13/site-packages (from elasticsearch==8.*) (2.9.0.post0)\n",
      "Requirement already satisfied: typing-extensions in /Users/sanjiv/Developer/Code/elasticsearch/elastic_search/lib/python3.13/site-packages (from elasticsearch==8.*) (4.15.0)\n",
      "Requirement already satisfied: urllib3<3,>=1.26.2 in /Users/sanjiv/Developer/Code/elasticsearch/elastic_search/lib/python3.13/site-packages (from elastic-transport<9,>=8.15.1->elasticsearch==8.*) (2.5.0)\n",
      "Requirement already satisfied: certifi in /Users/sanjiv/Developer/Code/elasticsearch/elastic_search/lib/python3.13/site-packages (from elastic-transport<9,>=8.15.1->elasticsearch==8.*) (2025.10.5)\n",
      "Requirement already satisfied: six>=1.5 in /Users/sanjiv/Developer/Code/elasticsearch/elastic_search/lib/python3.13/site-packages (from python-dateutil->elasticsearch==8.*) (1.17.0)\n",
      "Note: you may need to restart the kernel to use updated packages.\n"
     ]
    }
   ],
   "source": [
    "pip install \"elasticsearch==8.*\""
   ]
  },
  {
   "cell_type": "code",
   "execution_count": 2,
   "id": "ba665014-5ddc-4f6a-b701-93ad3534d03a",
   "metadata": {
    "scrolled": true
   },
   "outputs": [
    {
     "name": "stdout",
     "output_type": "stream",
     "text": [
      "Connected to Elasticsearch!\n",
      "{'cluster_name': 'docker-cluster',\n",
      " 'cluster_uuid': '0cXT2SaPTdGHk8cC2kcjuQ',\n",
      " 'name': '71a7b5e51874',\n",
      " 'tagline': 'You Know, for Search',\n",
      " 'version': {'build_date': '2024-08-05T10:05:34.233336849Z',\n",
      "             'build_flavor': 'default',\n",
      "             'build_hash': '1a77947f34deddb41af25e6f0ddb8e830159c179',\n",
      "             'build_snapshot': False,\n",
      "             'build_type': 'docker',\n",
      "             'lucene_version': '9.11.1',\n",
      "             'minimum_index_compatibility_version': '7.0.0',\n",
      "             'minimum_wire_compatibility_version': '7.17.0',\n",
      "             'number': '8.15.0'}}\n"
     ]
    }
   ],
   "source": [
    "from pprint import pprint\n",
    "from elasticsearch import Elasticsearch\n",
    "\n",
    "es = Elasticsearch('http://localhost:9200')\n",
    "client_info = es.info()\n",
    "print('Connected to Elasticsearch!')\n",
    "pprint(client_info.body)"
   ]
  },
  {
   "cell_type": "markdown",
   "id": "9d207092-830c-4167-b6c5-7e1666ec864c",
   "metadata": {},
   "source": [
    "## Create Index"
   ]
  },
  {
   "cell_type": "markdown",
   "id": "a001a2e0-7e08-4a69-a87c-3de2a003c1f5",
   "metadata": {},
   "source": [
    "### 1. Simplest Way"
   ]
  },
  {
   "cell_type": "markdown",
   "id": "9c832481-d01e-43a1-a979-2bb5cfe8cdea",
   "metadata": {},
   "source": [
    "In this method, the mappings which define the structure of documents within an index are infered."
   ]
  },
  {
   "cell_type": "code",
   "execution_count": 2,
   "id": "4470b858-ff9e-4828-bbc6-598917160272",
   "metadata": {},
   "outputs": [
    {
     "data": {
      "text/plain": [
       "ObjectApiResponse({'acknowledged': True, 'shards_acknowledged': True, 'index': 'my_index'})"
      ]
     },
     "execution_count": 2,
     "metadata": {},
     "output_type": "execute_result"
    }
   ],
   "source": [
    "es.indices.delete(index='my_index', ignore_unavailable=True)\n",
    "es.indices.create(index='my_index')"
   ]
  },
  {
   "cell_type": "markdown",
   "id": "a6dead29-51a2-4b7c-8315-f61ad0c1d1b2",
   "metadata": {},
   "source": [
    "### 2. Specify the number of replicas and shards"
   ]
  },
  {
   "cell_type": "markdown",
   "id": "33a95609-e4b2-4e7f-b258-a2aef713fd15",
   "metadata": {},
   "source": [
    "Shards: Elasticsearch divides the data in an index into multiple shards. Each shard is a self-contained index that Elasticsearch can distribute across multiple nodes in a cluster. Shards are managed automatically but configured when creating the index."
   ]
  },
  {
   "cell_type": "markdown",
   "id": "85d28dfb-2dd0-42d5-b49f-8184287db73e",
   "metadata": {},
   "source": [
    "Replicas: For fault tolerance and high availability, an index can have replica shards, which are copies of the primary shards."
   ]
  },
  {
   "cell_type": "code",
   "execution_count": 4,
   "id": "c3497267-364a-4586-a378-797aeef41ab7",
   "metadata": {},
   "outputs": [
    {
     "data": {
      "text/plain": [
       "ObjectApiResponse({'acknowledged': True, 'shards_acknowledged': True, 'index': 'my_index'})"
      ]
     },
     "execution_count": 4,
     "metadata": {},
     "output_type": "execute_result"
    }
   ],
   "source": [
    "es.indices.delete(index='my_index', ignore_unavailable=True)\n",
    "es.indices.create(\n",
    "    index=\"my_index\",\n",
    "    settings={\n",
    "        \"index\": {\n",
    "            \"number_of_shards\": 3,  # how many pieces the data is split into\n",
    "            \"number_of_replicas\": 2  # how many copies of the data\n",
    "        }\n",
    "    },\n",
    ")"
   ]
  },
  {
   "cell_type": "code",
   "execution_count": null,
   "id": "7e1f40d7-a624-4c95-934a-3837f8eacfe4",
   "metadata": {},
   "outputs": [],
   "source": []
  }
 ],
 "metadata": {
  "kernelspec": {
   "display_name": "Python 3 (ipykernel)",
   "language": "python",
   "name": "python3"
  },
  "language_info": {
   "codemirror_mode": {
    "name": "ipython",
    "version": 3
   },
   "file_extension": ".py",
   "mimetype": "text/x-python",
   "name": "python",
   "nbconvert_exporter": "python",
   "pygments_lexer": "ipython3",
   "version": "3.13.7"
  }
 },
 "nbformat": 4,
 "nbformat_minor": 5
}
