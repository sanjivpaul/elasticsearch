{
 "cells": [
  {
   "cell_type": "markdown",
   "id": "b564d538-eb1e-4f17-8d67-a78d479535d3",
   "metadata": {},
   "source": [
    "## Connect to Elastic Search"
   ]
  },
  {
   "cell_type": "code",
   "execution_count": 1,
   "id": "4fbf2ec9-4e18-407b-923c-55696dcf9e7b",
   "metadata": {},
   "outputs": [
    {
     "name": "stdout",
     "output_type": "stream",
     "text": [
      "Connected to Elasticsearch!\n",
      "{'cluster_name': 'docker-cluster',\n",
      " 'cluster_uuid': 'FQt-ffZfTpeh0Snf3pUAQw',\n",
      " 'name': 'ae8b5b4be42b',\n",
      " 'tagline': 'You Know, for Search',\n",
      " 'version': {'build_date': '2024-08-05T10:05:34.233336849Z',\n",
      "             'build_flavor': 'default',\n",
      "             'build_hash': '1a77947f34deddb41af25e6f0ddb8e830159c179',\n",
      "             'build_snapshot': False,\n",
      "             'build_type': 'docker',\n",
      "             'lucene_version': '9.11.1',\n",
      "             'minimum_index_compatibility_version': '7.0.0',\n",
      "             'minimum_wire_compatibility_version': '7.17.0',\n",
      "             'number': '8.15.0'}}\n"
     ]
    }
   ],
   "source": [
    "from pprint import pprint\n",
    "from elasticsearch import Elasticsearch\n",
    "\n",
    "es = Elasticsearch('http://localhost:9200')\n",
    "client_info = es.info()\n",
    "print('Connected to Elasticsearch!')\n",
    "pprint(client_info.body)"
   ]
  },
  {
   "cell_type": "markdown",
   "id": "9d08a97c-f514-47ef-bd2a-dddf40caae4a",
   "metadata": {},
   "source": [
    "### Index Documents"
   ]
  },
  {
   "cell_type": "code",
   "execution_count": 2,
   "id": "6d977ae5-9e58-4225-9778-84e3901c50c9",
   "metadata": {},
   "outputs": [
    {
     "data": {
      "text/plain": [
       "ObjectApiResponse({'acknowledged': True, 'shards_acknowledged': True, 'index': 'my_index'})"
      ]
     },
     "execution_count": 2,
     "metadata": {},
     "output_type": "execute_result"
    }
   ],
   "source": [
    "es.indices.delete(index='my_index', ignore_unavailable=True)\n",
    "es.indices.create(index='my_index')"
   ]
  },
  {
   "cell_type": "markdown",
   "id": "437db2fa-1c45-4539-838a-1d0e0454883f",
   "metadata": {},
   "source": [
    "We are using the `dummy_data.json` file to insert multiple documents in the index. We store the id of each document in the `document_ids` list."
   ]
  },
  {
   "cell_type": "code",
   "execution_count": 6,
   "id": "244169b5-a76b-4b29-b844-9052301d7268",
   "metadata": {},
   "outputs": [
    {
     "name": "stderr",
     "output_type": "stream",
     "text": [
      "100%|██████████████████████████████████████████████████████████████████████████████████████████████████████| 3/3 [00:00<00:00, 47.66it/s]\n"
     ]
    }
   ],
   "source": [
    "import json\n",
    "from tqdm import tqdm\n",
    "\n",
    "\n",
    "document_ids = []\n",
    "dummy_data = json.load(open(\"../data/dummy_data.json\"))\n",
    "for document in tqdm(dummy_data, total=len(dummy_data)):\n",
    "    response = es.index(index='my_index', body=document)\n",
    "    document_ids.append(response['_id'])"
   ]
  },
  {
   "cell_type": "code",
   "execution_count": 7,
   "id": "9e5ed355-ed0e-4015-b131-2306bef6e165",
   "metadata": {},
   "outputs": [
    {
     "data": {
      "text/plain": [
       "['ZypdKpoBqbZEoMTBDcoz', 'aCpdKpoBqbZEoMTBDcpl', 'aSpdKpoBqbZEoMTBDcpo']"
      ]
     },
     "execution_count": 7,
     "metadata": {},
     "output_type": "execute_result"
    }
   ],
   "source": [
    "document_ids"
   ]
  },
  {
   "cell_type": "markdown",
   "id": "215716b6-4ebc-4f24-8cf8-605fcfe03cbd",
   "metadata": {},
   "source": [
    "### Get Operation"
   ]
  },
  {
   "cell_type": "markdown",
   "id": "5d8359dd-9dd1-4d7e-9993-8550eed3ad5f",
   "metadata": {},
   "source": [
    "This is an example of a successful operation. If the `ID` exists in the document, the `get` operation won't return any errors.\n",
    "\n"
   ]
  },
  {
   "cell_type": "code",
   "execution_count": 12,
   "id": "d7ae1129-847d-4329-ac13-29d2f722d857",
   "metadata": {},
   "outputs": [],
   "source": [
    "response = es.get(index='my_index', id=document_ids[0])"
   ]
  },
  {
   "cell_type": "code",
   "execution_count": 10,
   "id": "e7ce0031-8a79-473b-a1d4-68d39b2d69d3",
   "metadata": {},
   "outputs": [
    {
     "name": "stdout",
     "output_type": "stream",
     "text": [
      "{'_id': 'ZypdKpoBqbZEoMTBDcoz',\n",
      " '_index': 'my_index',\n",
      " '_primary_term': 1,\n",
      " '_seq_no': 0,\n",
      " '_source': {'created_on': '2024-09-22',\n",
      "             'text': 'This is the first sample document text.',\n",
      "             'title': 'Sample Title 1'},\n",
      " '_version': 1,\n",
      " 'found': True}\n"
     ]
    }
   ],
   "source": [
    "from pprint import pprint\n",
    "\n",
    "pprint(response.body)"
   ]
  },
  {
   "cell_type": "markdown",
   "id": "56e58d92-2ab0-479c-aa22-c1451c54a389",
   "metadata": {},
   "source": [
    "This example shows that the `get` operation fails when providing it with an `ID` that does not exist in the index.\n",
    "\n"
   ]
  },
  {
   "cell_type": "code",
   "execution_count": null,
   "id": "08a52723-99cd-45a7-a29d-bebd049bb9e0",
   "metadata": {},
   "outputs": [],
   "source": [
    "try:\n",
    "    response = es.get(index='my_index', id=\"id\")\n",
    "except Exception as e:\n",
    "    print(e)"
   ]
  }
 ],
 "metadata": {
  "kernelspec": {
   "display_name": "Python 3 (ipykernel)",
   "language": "python",
   "name": "python3"
  },
  "language_info": {
   "codemirror_mode": {
    "name": "ipython",
    "version": 3
   },
   "file_extension": ".py",
   "mimetype": "text/x-python",
   "name": "python",
   "nbconvert_exporter": "python",
   "pygments_lexer": "ipython3",
   "version": "3.12.9"
  }
 },
 "nbformat": 4,
 "nbformat_minor": 5
}
