{
 "cells": [
  {
   "cell_type": "markdown",
   "id": "5e57bf19-2930-48da-98a1-d106842d940d",
   "metadata": {},
   "source": [
    "## Connect To Elastic Search"
   ]
  },
  {
   "cell_type": "code",
   "execution_count": 1,
   "id": "acabcf80-bcc5-4abe-afa8-22e24da160ad",
   "metadata": {},
   "outputs": [
    {
     "name": "stdout",
     "output_type": "stream",
     "text": [
      "Connected to Elasticsearch!\n",
      "{'cluster_name': 'docker-cluster',\n",
      " 'cluster_uuid': 'FQt-ffZfTpeh0Snf3pUAQw',\n",
      " 'name': 'ae8b5b4be42b',\n",
      " 'tagline': 'You Know, for Search',\n",
      " 'version': {'build_date': '2024-08-05T10:05:34.233336849Z',\n",
      "             'build_flavor': 'default',\n",
      "             'build_hash': '1a77947f34deddb41af25e6f0ddb8e830159c179',\n",
      "             'build_snapshot': False,\n",
      "             'build_type': 'docker',\n",
      "             'lucene_version': '9.11.1',\n",
      "             'minimum_index_compatibility_version': '7.0.0',\n",
      "             'minimum_wire_compatibility_version': '7.17.0',\n",
      "             'number': '8.15.0'}}\n"
     ]
    }
   ],
   "source": [
    "from pprint import pprint\n",
    "from elasticsearch import Elasticsearch\n",
    "\n",
    "es = Elasticsearch('http://localhost:9200')\n",
    "client_info = es.info()\n",
    "print('Connected to Elasticsearch!')\n",
    "pprint(client_info.body)"
   ]
  },
  {
   "cell_type": "markdown",
   "id": "2af4e083-1edf-4adf-824d-4c37b66e4cf4",
   "metadata": {},
   "source": [
    "### Index Documents"
   ]
  },
  {
   "cell_type": "code",
   "execution_count": 2,
   "id": "623e91c0-c1e5-475e-8e05-0159bd49d465",
   "metadata": {},
   "outputs": [
    {
     "data": {
      "text/plain": [
       "ObjectApiResponse({'acknowledged': True, 'shards_acknowledged': True, 'index': 'my_index'})"
      ]
     },
     "execution_count": 2,
     "metadata": {},
     "output_type": "execute_result"
    }
   ],
   "source": [
    "es.indices.delete(index='my_index', ignore_unavailable=True)\n",
    "es.indices.create(index='my_index')"
   ]
  },
  {
   "cell_type": "markdown",
   "id": "f3b6fd96-a662-439a-a301-d899e496bfca",
   "metadata": {},
   "source": [
    "We are using the `dummy_data.json` file to insert multiple documents in the index. We store the id of each document in the `document_ids`list."
   ]
  },
  {
   "cell_type": "code",
   "execution_count": 4,
   "id": "a2b876a6-1405-45f9-b52b-4073b7c8fb94",
   "metadata": {},
   "outputs": [
    {
     "name": "stderr",
     "output_type": "stream",
     "text": [
      "100%|██████████████████████████████████████████████████████████████████████████████████████████████████████| 3/3 [00:00<00:00, 30.70it/s]\n"
     ]
    }
   ],
   "source": [
    "import json\n",
    "from tqdm import tqdm\n",
    "\n",
    "document_ids = []\n",
    "dummy_data = json.load(open(\"../data/dummy_data.json\"))\n",
    "for document in tqdm(dummy_data, total=len(dummy_data)):\n",
    "    response = es.index(index='my_index', body=document)\n",
    "    document_ids.append(response['_id'])"
   ]
  },
  {
   "cell_type": "code",
   "execution_count": 5,
   "id": "7f828999-6f08-40ea-bf99-644073e42b1b",
   "metadata": {},
   "outputs": [
    {
     "data": {
      "text/plain": [
       "['ZCo4KpoBqbZEoMTBbMq5', 'ZSo4KpoBqbZEoMTBbcoG', 'Zio4KpoBqbZEoMTBbcoL']"
      ]
     },
     "execution_count": 5,
     "metadata": {},
     "output_type": "execute_result"
    }
   ],
   "source": [
    "document_ids"
   ]
  },
  {
   "cell_type": "markdown",
   "id": "1d9c96a3-6b27-415f-838d-b87c8e171dc4",
   "metadata": {},
   "source": [
    "### Delete operation"
   ]
  },
  {
   "cell_type": "markdown",
   "id": "66e5e1cd-b3ae-471c-83c0-b52188c0af78",
   "metadata": {},
   "source": [
    "This is an example of a successful operation. If the `ID` exists in the document, the `delete` operation won't return any errors."
   ]
  },
  {
   "cell_type": "code",
   "execution_count": 6,
   "id": "e50a4074-9aa5-4bc0-a89b-495dd97bcd53",
   "metadata": {},
   "outputs": [],
   "source": [
    "response = es.delete(index='my_index', id=document_ids[0])"
   ]
  },
  {
   "cell_type": "code",
   "execution_count": 7,
   "id": "cb2c723f-9cbc-4aaa-bbbe-85a4277e59a9",
   "metadata": {},
   "outputs": [
    {
     "name": "stdout",
     "output_type": "stream",
     "text": [
      "{'_id': 'ZCo4KpoBqbZEoMTBbMq5',\n",
      " '_index': 'my_index',\n",
      " '_primary_term': 1,\n",
      " '_seq_no': 3,\n",
      " '_shards': {'failed': 0, 'successful': 1, 'total': 2},\n",
      " '_version': 2,\n",
      " 'result': 'deleted'}\n"
     ]
    }
   ],
   "source": [
    "from pprint import pprint\n",
    "\n",
    "pprint(response.body)"
   ]
  },
  {
   "cell_type": "markdown",
   "id": "91a4d08c-3e77-4fa6-8e04-220bd594ccfd",
   "metadata": {},
   "source": [
    "This example shows that the `delete` operation fails when providing it with an `ID` that does not exist in the index.\n",
    "\n"
   ]
  },
  {
   "cell_type": "code",
   "execution_count": 8,
   "id": "4329af83-f49d-418f-9811-d8d05a874137",
   "metadata": {},
   "outputs": [
    {
     "name": "stdout",
     "output_type": "stream",
     "text": [
      "NotFoundError(404, \"{'_index': 'my_index', '_id': 'id', '_version': 1, 'result': 'not_found', '_shards': {'total': 2, 'successful': 1, 'failed': 0}, '_seq_no': 4, '_primary_term': 1}\")\n"
     ]
    }
   ],
   "source": [
    "try:\n",
    "    response = es.delete(index='my_index', id=\"id\")\n",
    "except Exception as e:\n",
    "    print(e)"
   ]
  },
  {
   "cell_type": "code",
   "execution_count": null,
   "id": "65150f62-5676-49f4-9dd4-0fa3f855328e",
   "metadata": {},
   "outputs": [],
   "source": []
  }
 ],
 "metadata": {
  "kernelspec": {
   "display_name": "Python 3 (ipykernel)",
   "language": "python",
   "name": "python3"
  },
  "language_info": {
   "codemirror_mode": {
    "name": "ipython",
    "version": 3
   },
   "file_extension": ".py",
   "mimetype": "text/x-python",
   "name": "python",
   "nbconvert_exporter": "python",
   "pygments_lexer": "ipython3",
   "version": "3.12.9"
  }
 },
 "nbformat": 4,
 "nbformat_minor": 5
}
