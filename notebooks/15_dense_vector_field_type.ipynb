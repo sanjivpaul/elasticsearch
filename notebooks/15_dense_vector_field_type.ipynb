{
 "cells": [
  {
   "cell_type": "markdown",
   "id": "6edfb950-e24e-445f-b6ab-470f5d8ee3b7",
   "metadata": {},
   "source": [
    "### Documentation"
   ]
  },
  {
   "cell_type": "markdown",
   "id": "c1f8d50f-eafe-44a0-af3e-f54398c91b4e",
   "metadata": {},
   "source": [
    "To read more about the search API, visit the [docs](https://www.elastic.co/docs/reference/elasticsearch/mapping-reference/dense-vector)"
   ]
  },
  {
   "cell_type": "markdown",
   "id": "5273741e-5597-4b41-95f7-42b2ba130a41",
   "metadata": {},
   "source": [
    "### Connect to ElasticSearch"
   ]
  },
  {
   "cell_type": "code",
   "execution_count": 1,
   "id": "a14105a3-8586-4f27-a5c4-f9ac68d8ece8",
   "metadata": {},
   "outputs": [
    {
     "name": "stdout",
     "output_type": "stream",
     "text": [
      "Connected to Elasticsearch!\n",
      "{'cluster_name': 'docker-cluster',\n",
      " 'cluster_uuid': 'FQt-ffZfTpeh0Snf3pUAQw',\n",
      " 'name': 'ae8b5b4be42b',\n",
      " 'tagline': 'You Know, for Search',\n",
      " 'version': {'build_date': '2024-08-05T10:05:34.233336849Z',\n",
      "             'build_flavor': 'default',\n",
      "             'build_hash': '1a77947f34deddb41af25e6f0ddb8e830159c179',\n",
      "             'build_snapshot': False,\n",
      "             'build_type': 'docker',\n",
      "             'lucene_version': '9.11.1',\n",
      "             'minimum_index_compatibility_version': '7.0.0',\n",
      "             'minimum_wire_compatibility_version': '7.17.0',\n",
      "             'number': '8.15.0'}}\n"
     ]
    }
   ],
   "source": [
    "from pprint import pprint\n",
    "from elasticsearch import Elasticsearch\n",
    "\n",
    "es = Elasticsearch('http://localhost:9200')\n",
    "client_info = es.info()\n",
    "print('Connected to Elasticsearch!')\n",
    "pprint(client_info.body)"
   ]
  },
  {
   "cell_type": "markdown",
   "id": "389c0f5a-e4fd-4f47-a0fc-bf2f6a565354",
   "metadata": {},
   "source": [
    "### Inserting documents"
   ]
  },
  {
   "cell_type": "markdown",
   "id": "77779798-d194-4b40-ae3a-251d06a3eab5",
   "metadata": {},
   "source": [
    "Because we are using the `dense_vector` data type, we need to do the mapping manually."
   ]
  },
  {
   "cell_type": "code",
   "execution_count": 2,
   "id": "a991ecdb-a3d9-4812-acdd-3b0c54f1be31",
   "metadata": {},
   "outputs": [
    {
     "data": {
      "text/plain": [
       "ObjectApiResponse({'acknowledged': True, 'shards_acknowledged': True, 'index': 'my_index'})"
      ]
     },
     "execution_count": 2,
     "metadata": {},
     "output_type": "execute_result"
    }
   ],
   "source": [
    "es.indices.delete(index='my_index', ignore_unavailable=True)\n",
    "es.indices.create(\n",
    "    index=\"my_index\",\n",
    "    mappings={\n",
    "        \"properties\":{\n",
    "            \"sides_length\": {\n",
    "                \"type\":\"dense_vector\",\n",
    "                \"dims\":4\n",
    "            },\n",
    "            \"shape\" :{\n",
    "                \"type\":\"keyword\"\n",
    "            }\n",
    "        }\n",
    "    },\n",
    ")\n",
    "                "
   ]
  },
  {
   "cell_type": "code",
   "execution_count": null,
   "id": "1e39098f-37b2-47af-a71d-081f2751ba31",
   "metadata": {},
   "outputs": [],
   "source": []
  }
 ],
 "metadata": {
  "kernelspec": {
   "display_name": "Python 3 (ipykernel)",
   "language": "python",
   "name": "python3"
  },
  "language_info": {
   "codemirror_mode": {
    "name": "ipython",
    "version": 3
   },
   "file_extension": ".py",
   "mimetype": "text/x-python",
   "name": "python",
   "nbconvert_exporter": "python",
   "pygments_lexer": "ipython3",
   "version": "3.12.9"
  }
 },
 "nbformat": 4,
 "nbformat_minor": 5
}
